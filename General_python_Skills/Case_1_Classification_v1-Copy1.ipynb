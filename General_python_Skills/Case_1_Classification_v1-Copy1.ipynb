{
 "cells": [
  {
   "cell_type": "markdown",
   "metadata": {},
   "source": [
    "## We import the necesary libraries and load the given dataset (seeds_dataset.txt)"
   ]
  },
  {
   "cell_type": "code",
   "execution_count": 36,
   "metadata": {},
   "outputs": [
    {
     "data": {
      "text/html": [
       "<div>\n",
       "<style scoped>\n",
       "    .dataframe tbody tr th:only-of-type {\n",
       "        vertical-align: middle;\n",
       "    }\n",
       "\n",
       "    .dataframe tbody tr th {\n",
       "        vertical-align: top;\n",
       "    }\n",
       "\n",
       "    .dataframe thead th {\n",
       "        text-align: right;\n",
       "    }\n",
       "</style>\n",
       "<table border=\"1\" class=\"dataframe\">\n",
       "  <thead>\n",
       "    <tr style=\"text-align: right;\">\n",
       "      <th></th>\n",
       "      <th>Area</th>\n",
       "      <th>Perimeter</th>\n",
       "      <th>Compactness</th>\n",
       "      <th>Length_of_kernel</th>\n",
       "      <th>Width_of_kernel</th>\n",
       "      <th>Asymetry_coefficient</th>\n",
       "      <th>Length_of_kernel_groove</th>\n",
       "      <th>Class</th>\n",
       "    </tr>\n",
       "  </thead>\n",
       "  <tbody>\n",
       "    <tr>\n",
       "      <th>0</th>\n",
       "      <td>15.26</td>\n",
       "      <td>14.84</td>\n",
       "      <td>0.8710</td>\n",
       "      <td>5.763</td>\n",
       "      <td>3.312</td>\n",
       "      <td>2.221</td>\n",
       "      <td>5.220</td>\n",
       "      <td>1</td>\n",
       "    </tr>\n",
       "    <tr>\n",
       "      <th>1</th>\n",
       "      <td>14.88</td>\n",
       "      <td>14.57</td>\n",
       "      <td>0.8811</td>\n",
       "      <td>5.554</td>\n",
       "      <td>3.333</td>\n",
       "      <td>1.018</td>\n",
       "      <td>4.956</td>\n",
       "      <td>1</td>\n",
       "    </tr>\n",
       "    <tr>\n",
       "      <th>2</th>\n",
       "      <td>14.29</td>\n",
       "      <td>14.09</td>\n",
       "      <td>0.9050</td>\n",
       "      <td>5.291</td>\n",
       "      <td>3.337</td>\n",
       "      <td>2.699</td>\n",
       "      <td>4.825</td>\n",
       "      <td>1</td>\n",
       "    </tr>\n",
       "    <tr>\n",
       "      <th>3</th>\n",
       "      <td>13.84</td>\n",
       "      <td>13.94</td>\n",
       "      <td>0.8955</td>\n",
       "      <td>5.324</td>\n",
       "      <td>3.379</td>\n",
       "      <td>2.259</td>\n",
       "      <td>4.805</td>\n",
       "      <td>1</td>\n",
       "    </tr>\n",
       "    <tr>\n",
       "      <th>4</th>\n",
       "      <td>16.14</td>\n",
       "      <td>14.99</td>\n",
       "      <td>0.9034</td>\n",
       "      <td>5.658</td>\n",
       "      <td>3.562</td>\n",
       "      <td>1.355</td>\n",
       "      <td>5.175</td>\n",
       "      <td>1</td>\n",
       "    </tr>\n",
       "  </tbody>\n",
       "</table>\n",
       "</div>"
      ],
      "text/plain": [
       "    Area  Perimeter  Compactness  Length_of_kernel  Width_of_kernel  \\\n",
       "0  15.26      14.84       0.8710             5.763            3.312   \n",
       "1  14.88      14.57       0.8811             5.554            3.333   \n",
       "2  14.29      14.09       0.9050             5.291            3.337   \n",
       "3  13.84      13.94       0.8955             5.324            3.379   \n",
       "4  16.14      14.99       0.9034             5.658            3.562   \n",
       "\n",
       "   Asymetry_coefficient  Length_of_kernel_groove  Class  \n",
       "0                 2.221                    5.220      1  \n",
       "1                 1.018                    4.956      1  \n",
       "2                 2.699                    4.825      1  \n",
       "3                 2.259                    4.805      1  \n",
       "4                 1.355                    5.175      1  "
      ]
     },
     "execution_count": 36,
     "metadata": {},
     "output_type": "execute_result"
    }
   ],
   "source": [
    "import pandas as pd \n",
    "from sklearn.model_selection import train_test_split\n",
    "from sklearn.metrics import confusion_matrix\n",
    "from sklearn.naive_bayes import GaussianNB\n",
    "from sklearn.metrics import accuracy_score\n",
    "from scipy import stats\n",
    "from sklearn import metrics\n",
    "\n",
    "#Extraction\n",
    "labels= [\"Area\",\"Perimeter\",\"Compactness\",\"Length_of_kernel\",\"Width_of_kernel\",\"Asymetry_coefficient\",\"Length_of_kernel_groove\",\"Class\"]\n",
    "data = pd.read_csv('seeds_dataset.txt', delimiter=\"\\t\", header=None, names = labels)\n",
    "data.head()"
   ]
  },
  {
   "cell_type": "markdown",
   "metadata": {},
   "source": [
    "### We analyze the satate of the dataset "
   ]
  },
  {
   "cell_type": "code",
   "execution_count": 27,
   "metadata": {},
   "outputs": [
    {
     "name": "stdout",
     "output_type": "stream",
     "text": [
      "             Area   Perimeter  Compactness  Length_of_kernel  Width_of_kernel  \\\n",
      "count  210.000000  210.000000   210.000000        210.000000       210.000000   \n",
      "mean    14.847524   14.559286     0.870999          5.628533         3.258605   \n",
      "std      2.909699    1.305959     0.023629          0.443063         0.377714   \n",
      "min     10.590000   12.410000     0.808100          4.899000         2.630000   \n",
      "25%     12.270000   13.450000     0.856900          5.262250         2.944000   \n",
      "50%     14.355000   14.320000     0.873450          5.523500         3.237000   \n",
      "75%     17.305000   15.715000     0.887775          5.979750         3.561750   \n",
      "max     21.180000   17.250000     0.918300          6.675000         4.033000   \n",
      "\n",
      "       Asymetry_coefficient  Length_of_kernel_groove       Class  \n",
      "count            210.000000               210.000000  210.000000  \n",
      "mean               3.700201                 5.408071    2.000000  \n",
      "std                1.503557                 0.491480    0.818448  \n",
      "min                0.765100                 4.519000    1.000000  \n",
      "25%                2.561500                 5.045000    1.000000  \n",
      "50%                3.599000                 5.223000    2.000000  \n",
      "75%                4.768750                 5.877000    3.000000  \n",
      "max                8.456000                 6.550000    3.000000  \n",
      "\n",
      "\n",
      "Checking NULLs Area                       0\n",
      "Perimeter                  0\n",
      "Compactness                0\n",
      "Length_of_kernel           0\n",
      "Width_of_kernel            0\n",
      "Asymetry_coefficient       0\n",
      "Length_of_kernel_groove    0\n",
      "Class                      0\n",
      "dtype: int64\n",
      "\n",
      "\n",
      "All data Shape --> (210, 8)\n",
      "\n",
      "\n",
      "Target Shape --> (210,)\n",
      "Variables Shape --> (210, 7)\n"
     ]
    }
   ],
   "source": [
    "print(data.describe())\n",
    "print(\"\\n\")\n",
    "print(\"Checking NULLs\",data.isnull().sum())\n",
    "#There is no nulls in the dataset\n",
    "print\n",
    "\n",
    "target = data[\"Class\"]\n",
    "X = data.drop(\"Class\", 1)\n",
    "# We Divide the target \"Class\" from the rest of the variables \n",
    "print(\"\\n\")\n",
    "print(\"All data Shape -->\",data.shape)\n",
    "print(\"\\n\")\n",
    "print(\"Target Shape -->\",target.shape)\n",
    "print(\"Variables Shape -->\",X.shape)"
   ]
  },
  {
   "cell_type": "code",
   "execution_count": 28,
   "metadata": {},
   "outputs": [
    {
     "data": {
      "text/plain": [
       "3    70\n",
       "2    70\n",
       "1    70\n",
       "Name: Class, dtype: int64"
      ]
     },
     "execution_count": 28,
     "metadata": {},
     "output_type": "execute_result"
    }
   ],
   "source": [
    "target.value_counts()\n",
    "#We have 3 groups (1,2,3)\n",
    "#We see that the classifications of the dataset are equally distributed (70 per each group)"
   ]
  },
  {
   "cell_type": "code",
   "execution_count": 29,
   "metadata": {},
   "outputs": [
    {
     "data": {
      "text/html": [
       "<div>\n",
       "<style scoped>\n",
       "    .dataframe tbody tr th:only-of-type {\n",
       "        vertical-align: middle;\n",
       "    }\n",
       "\n",
       "    .dataframe tbody tr th {\n",
       "        vertical-align: top;\n",
       "    }\n",
       "\n",
       "    .dataframe thead th {\n",
       "        text-align: right;\n",
       "    }\n",
       "</style>\n",
       "<table border=\"1\" class=\"dataframe\">\n",
       "  <thead>\n",
       "    <tr style=\"text-align: right;\">\n",
       "      <th></th>\n",
       "      <th>Area</th>\n",
       "      <th>Perimeter</th>\n",
       "      <th>Compactness</th>\n",
       "      <th>Length_of_kernel</th>\n",
       "      <th>Width_of_kernel</th>\n",
       "      <th>Asymetry_coefficient</th>\n",
       "      <th>Length_of_kernel_groove</th>\n",
       "      <th>Class</th>\n",
       "    </tr>\n",
       "  </thead>\n",
       "  <tbody>\n",
       "    <tr>\n",
       "      <th>Area</th>\n",
       "      <td>1.000000</td>\n",
       "      <td>0.994341</td>\n",
       "      <td>0.608288</td>\n",
       "      <td>0.949985</td>\n",
       "      <td>0.970771</td>\n",
       "      <td>-0.229572</td>\n",
       "      <td>0.863693</td>\n",
       "      <td>-0.346058</td>\n",
       "    </tr>\n",
       "    <tr>\n",
       "      <th>Perimeter</th>\n",
       "      <td>0.994341</td>\n",
       "      <td>1.000000</td>\n",
       "      <td>0.529244</td>\n",
       "      <td>0.972422</td>\n",
       "      <td>0.944829</td>\n",
       "      <td>-0.217340</td>\n",
       "      <td>0.890784</td>\n",
       "      <td>-0.327900</td>\n",
       "    </tr>\n",
       "    <tr>\n",
       "      <th>Compactness</th>\n",
       "      <td>0.608288</td>\n",
       "      <td>0.529244</td>\n",
       "      <td>1.000000</td>\n",
       "      <td>0.367915</td>\n",
       "      <td>0.761635</td>\n",
       "      <td>-0.331471</td>\n",
       "      <td>0.226825</td>\n",
       "      <td>-0.531007</td>\n",
       "    </tr>\n",
       "    <tr>\n",
       "      <th>Length_of_kernel</th>\n",
       "      <td>0.949985</td>\n",
       "      <td>0.972422</td>\n",
       "      <td>0.367915</td>\n",
       "      <td>1.000000</td>\n",
       "      <td>0.860415</td>\n",
       "      <td>-0.171562</td>\n",
       "      <td>0.932806</td>\n",
       "      <td>-0.257269</td>\n",
       "    </tr>\n",
       "    <tr>\n",
       "      <th>Width_of_kernel</th>\n",
       "      <td>0.970771</td>\n",
       "      <td>0.944829</td>\n",
       "      <td>0.761635</td>\n",
       "      <td>0.860415</td>\n",
       "      <td>1.000000</td>\n",
       "      <td>-0.258037</td>\n",
       "      <td>0.749131</td>\n",
       "      <td>-0.423463</td>\n",
       "    </tr>\n",
       "    <tr>\n",
       "      <th>Asymetry_coefficient</th>\n",
       "      <td>-0.229572</td>\n",
       "      <td>-0.217340</td>\n",
       "      <td>-0.331471</td>\n",
       "      <td>-0.171562</td>\n",
       "      <td>-0.258037</td>\n",
       "      <td>1.000000</td>\n",
       "      <td>-0.011079</td>\n",
       "      <td>0.577273</td>\n",
       "    </tr>\n",
       "    <tr>\n",
       "      <th>Length_of_kernel_groove</th>\n",
       "      <td>0.863693</td>\n",
       "      <td>0.890784</td>\n",
       "      <td>0.226825</td>\n",
       "      <td>0.932806</td>\n",
       "      <td>0.749131</td>\n",
       "      <td>-0.011079</td>\n",
       "      <td>1.000000</td>\n",
       "      <td>0.024301</td>\n",
       "    </tr>\n",
       "    <tr>\n",
       "      <th>Class</th>\n",
       "      <td>-0.346058</td>\n",
       "      <td>-0.327900</td>\n",
       "      <td>-0.531007</td>\n",
       "      <td>-0.257269</td>\n",
       "      <td>-0.423463</td>\n",
       "      <td>0.577273</td>\n",
       "      <td>0.024301</td>\n",
       "      <td>1.000000</td>\n",
       "    </tr>\n",
       "  </tbody>\n",
       "</table>\n",
       "</div>"
      ],
      "text/plain": [
       "                             Area  Perimeter  Compactness  Length_of_kernel  \\\n",
       "Area                     1.000000   0.994341     0.608288          0.949985   \n",
       "Perimeter                0.994341   1.000000     0.529244          0.972422   \n",
       "Compactness              0.608288   0.529244     1.000000          0.367915   \n",
       "Length_of_kernel         0.949985   0.972422     0.367915          1.000000   \n",
       "Width_of_kernel          0.970771   0.944829     0.761635          0.860415   \n",
       "Asymetry_coefficient    -0.229572  -0.217340    -0.331471         -0.171562   \n",
       "Length_of_kernel_groove  0.863693   0.890784     0.226825          0.932806   \n",
       "Class                   -0.346058  -0.327900    -0.531007         -0.257269   \n",
       "\n",
       "                         Width_of_kernel  Asymetry_coefficient  \\\n",
       "Area                            0.970771             -0.229572   \n",
       "Perimeter                       0.944829             -0.217340   \n",
       "Compactness                     0.761635             -0.331471   \n",
       "Length_of_kernel                0.860415             -0.171562   \n",
       "Width_of_kernel                 1.000000             -0.258037   \n",
       "Asymetry_coefficient           -0.258037              1.000000   \n",
       "Length_of_kernel_groove         0.749131             -0.011079   \n",
       "Class                          -0.423463              0.577273   \n",
       "\n",
       "                         Length_of_kernel_groove     Class  \n",
       "Area                                    0.863693 -0.346058  \n",
       "Perimeter                               0.890784 -0.327900  \n",
       "Compactness                             0.226825 -0.531007  \n",
       "Length_of_kernel                        0.932806 -0.257269  \n",
       "Width_of_kernel                         0.749131 -0.423463  \n",
       "Asymetry_coefficient                   -0.011079  0.577273  \n",
       "Length_of_kernel_groove                 1.000000  0.024301  \n",
       "Class                                   0.024301  1.000000  "
      ]
     },
     "execution_count": 29,
     "metadata": {},
     "output_type": "execute_result"
    }
   ],
   "source": [
    "data.corr(method = 'pearson')\n",
    "#Checking the correlation between variables we see that \n",
    "#[['Perimenter','Area']], 0.994341 , \n",
    "#[['Length_of_kernel','Area']]"
   ]
  },
  {
   "cell_type": "markdown",
   "metadata": {},
   "source": [
    "#### Checking the correlation between variables we see high correlation between some variables\n",
    " ['Perimenter','Area'], 0.994341 \\\n",
    " ['Length_of_kernel','Area'], 0.949985 \\\n",
    " ['Length_of_kernel','Perimeter'], 0.972422\t \\\n",
    " ['Width_of_kernel','Area'], 0.970771\t \\\n",
    " ['Width_of_kernel','Perimeter'], 0.944829   \\\n",
    " ['Length_of_kernel_groove','Length_of_kernel'], 0.932806 \\\n",
    " \\\n",
    " Then we see the 'Area', 'Perimeter' variables have high correlation with 'Length_of_kernel' or 'Width_of_kernel' and  Length_of_kernel_groove' variable has high correlation with 'Length_of_kernel'. Then we are going to create a model not using the variables 'Perimeter', 'Area' and 'Length_of_kernel' to compare our choosen models with the dataset with all variables included."
   ]
  },
  {
   "cell_type": "code",
   "execution_count": 30,
   "metadata": {},
   "outputs": [
    {
     "data": {
      "text/plain": [
       "(210, 4)"
      ]
     },
     "execution_count": 30,
     "metadata": {},
     "output_type": "execute_result"
    }
   ],
   "source": [
    "light_data = data.drop(['Class','Area','Perimeter','Length_of_kernel'], 1)\n",
    "#the target will not change \n",
    "light_data.head()\n",
    "light_data.shape"
   ]
  },
  {
   "cell_type": "markdown",
   "metadata": {},
   "source": [
    "# We choose and create the models"
   ]
  },
  {
   "cell_type": "markdown",
   "metadata": {},
   "source": [
    "### Naive Bayes\n",
    "We are using the Naive Bayes classificator due to the DataShet is not very big and the target parameters are equally distributed."
   ]
  },
  {
   "cell_type": "code",
   "execution_count": 43,
   "metadata": {},
   "outputs": [],
   "source": [
    "#checking performance against the own train set\n",
    "\n",
    "def modelo_NB_train(X,Y):\n",
    "    X_train, X_test, y_train, y_test = train_test_split(X, Y, test_size=0.2, random_state=42)\n",
    "    gnb = GaussianNB()\n",
    "    #train\n",
    "    y_pred = gnb.fit(X_train, y_train).predict(X_train)\n",
    "    print('Train__The Accuracy is: ',accuracy_score(y_train, y_pred))\n",
    "    print('Train__conf_matrx:')\n",
    "    print(confusion_matrix(y_train, y_pred))\n",
    "#checking performance against the test\n",
    "\n",
    "def modelo_NB_test(X,Y):\n",
    "    X_train, X_test, y_train, y_test = train_test_split(X, Y, test_size=0.2, random_state=42) #same random state\n",
    "    gnb = GaussianNB()\n",
    "    #test\n",
    "    y_pred = gnb.fit(X_train, y_train).predict(X_test)\n",
    "    print('Test__The Accuracy is: ',accuracy_score(y_test, y_pred))\n",
    "    print('Test__conf_matrx:')\n",
    "    print(confusion_matrix(y_test, y_pred))\n",
    "    print(\"\\n\")\n",
    "    print(\"Classification report:\")\n",
    "    print(metrics.classification_report(y_test, y_pred, digits=3))"
   ]
  },
  {
   "cell_type": "code",
   "execution_count": 44,
   "metadata": {},
   "outputs": [
    {
     "name": "stdout",
     "output_type": "stream",
     "text": [
      "Test__The Accuracy is:  0.8571428571428571\n",
      "Test__conf_matrx:\n",
      "[[ 8  1  2]\n",
      " [ 1 13  0]\n",
      " [ 2  0 15]]\n",
      "\n",
      "\n",
      "Classification report:\n",
      "              precision    recall  f1-score   support\n",
      "\n",
      "           1      0.727     0.727     0.727        11\n",
      "           2      0.929     0.929     0.929        14\n",
      "           3      0.882     0.882     0.882        17\n",
      "\n",
      "    accuracy                          0.857        42\n",
      "   macro avg      0.846     0.846     0.846        42\n",
      "weighted avg      0.857     0.857     0.857        42\n",
      "\n"
     ]
    }
   ],
   "source": [
    "#First we do perform the model with all the variables:\n",
    "#modelo_NB_train(X,target)\n",
    "modelo_NB_test(X,target)"
   ]
  },
  {
   "cell_type": "code",
   "execution_count": 45,
   "metadata": {},
   "outputs": [
    {
     "name": "stdout",
     "output_type": "stream",
     "text": [
      "Test__The Accuracy is:  0.8809523809523809\n",
      "Test__conf_matrx:\n",
      "[[10  0  1]\n",
      " [ 0 14  0]\n",
      " [ 4  0 13]]\n",
      "\n",
      "\n",
      "Classification report:\n",
      "              precision    recall  f1-score   support\n",
      "\n",
      "           1      0.714     0.909     0.800        11\n",
      "           2      1.000     1.000     1.000        14\n",
      "           3      0.929     0.765     0.839        17\n",
      "\n",
      "    accuracy                          0.881        42\n",
      "   macro avg      0.881     0.891     0.880        42\n",
      "weighted avg      0.896     0.881     0.882        42\n",
      "\n"
     ]
    }
   ],
   "source": [
    "#Now with the dropped values\n",
    "#modelo_NB_train(light_data,target)\n",
    "modelo_NB_test(light_data,target)"
   ]
  },
  {
   "cell_type": "markdown",
   "metadata": {},
   "source": [
    "### Naive Bayes model Conclusion:\n",
    "\n",
    "Having the 'modelo_NB_test' function results as valid we can see how avoiding variables that are highly correlated with others we obtain abetter results.\n",
    "Complete Variables Dataset --> Accuracy = 0.8571428571428571 \\\n",
    "Suppressed Variables Dataset --> Accuracy = 0.8809523809523809 \\\n",
    "\\\n",
    "In the Classification report we can also see how the precision improves on each class in the second case.\n",
    "\n",
    "Also we can see in the Confusion matrix how in the first case we get more false positives when using all the variables among the different classes, where in the second case, using less variables, the number of false positives decreaseas.\n",
    "\n"
   ]
  },
  {
   "cell_type": "code",
   "execution_count": null,
   "metadata": {},
   "outputs": [],
   "source": []
  },
  {
   "cell_type": "code",
   "execution_count": null,
   "metadata": {},
   "outputs": [],
   "source": []
  }
 ],
 "metadata": {
  "kernelspec": {
   "display_name": "Python 3",
   "language": "python",
   "name": "python3"
  },
  "language_info": {
   "codemirror_mode": {
    "name": "ipython",
    "version": 3
   },
   "file_extension": ".py",
   "mimetype": "text/x-python",
   "name": "python",
   "nbconvert_exporter": "python",
   "pygments_lexer": "ipython3",
   "version": "3.8.5"
  }
 },
 "nbformat": 4,
 "nbformat_minor": 4
}
